{
 "cells": [
  {
   "cell_type": "code",
   "execution_count": 1,
   "id": "92b1526a-d786-47d3-a510-18869055cfa5",
   "metadata": {},
   "outputs": [],
   "source": [
    "# %matplotlib inline\n",
    "# import matplotlib.pyplot as plt\n",
    "from sklearn.ensemble import RandomForestRegressor\n",
    "import numpy as np\n",
    "import pandas as pd\n",
    "# import sklearn\n",
    "from sklearn.model_selection import train_test_split\n",
    "# from sklearn.utils import shuffle\n",
    "# from sklearn.model_selection import cross_val_score\n",
    "from sklearn.metrics import mean_squared_error as MSE,mean_absolute_error as MAE,r2_score as R2\n",
    "# from xgboost import XGBRegressor as XGBR\n",
    "from sklearn.decomposition import PCA"
   ]
  },
  {
   "cell_type": "code",
   "execution_count": 9,
   "id": "f0427435-f5d5-420e-a518-33c120b079dc",
   "metadata": {},
   "outputs": [],
   "source": [
    "dataset = pd.read_csv('test_1.csv')\n",
    "# print(dataset.head())\n",
    "x = dataset.iloc[:, 1:7].values\n",
    "y = dataset.iloc[:, 0].values\n",
    "# print(x.shape,y.shape)\n",
    "x_train, x_test, y_train, y_test = train_test_split(x,y,test_size=0.2)"
   ]
  },
  {
   "cell_type": "code",
   "execution_count": 3,
   "id": "1e937ec4-9a1d-4c13-86ec-a56ddce7892c",
   "metadata": {},
   "outputs": [
    {
     "data": {
      "text/html": [
       "<div>\n",
       "<style scoped>\n",
       "    .dataframe tbody tr th:only-of-type {\n",
       "        vertical-align: middle;\n",
       "    }\n",
       "\n",
       "    .dataframe tbody tr th {\n",
       "        vertical-align: top;\n",
       "    }\n",
       "\n",
       "    .dataframe thead th {\n",
       "        text-align: right;\n",
       "    }\n",
       "</style>\n",
       "<table border=\"1\" class=\"dataframe\">\n",
       "  <thead>\n",
       "    <tr style=\"text-align: right;\">\n",
       "      <th></th>\n",
       "      <th>0</th>\n",
       "      <th>1</th>\n",
       "      <th>2</th>\n",
       "      <th>3</th>\n",
       "      <th>4</th>\n",
       "      <th>5</th>\n",
       "      <th>6</th>\n",
       "    </tr>\n",
       "  </thead>\n",
       "  <tbody>\n",
       "    <tr>\n",
       "      <th>0</th>\n",
       "      <td>0.003521</td>\n",
       "      <td>0.678261</td>\n",
       "      <td>0.363636</td>\n",
       "      <td>0.604003</td>\n",
       "      <td>0.224299</td>\n",
       "      <td>0.477273</td>\n",
       "      <td>0.066179</td>\n",
       "    </tr>\n",
       "    <tr>\n",
       "      <th>1</th>\n",
       "      <td>0.021127</td>\n",
       "      <td>0.713043</td>\n",
       "      <td>0.418182</td>\n",
       "      <td>0.618797</td>\n",
       "      <td>0.233645</td>\n",
       "      <td>0.636364</td>\n",
       "      <td>0.557475</td>\n",
       "    </tr>\n",
       "    <tr>\n",
       "      <th>2</th>\n",
       "      <td>0.126761</td>\n",
       "      <td>0.730435</td>\n",
       "      <td>0.436364</td>\n",
       "      <td>0.509536</td>\n",
       "      <td>0.271028</td>\n",
       "      <td>0.715909</td>\n",
       "      <td>0.957646</td>\n",
       "    </tr>\n",
       "    <tr>\n",
       "      <th>3</th>\n",
       "      <td>0.454225</td>\n",
       "      <td>0.686957</td>\n",
       "      <td>0.454545</td>\n",
       "      <td>0.597773</td>\n",
       "      <td>0.429907</td>\n",
       "      <td>0.750000</td>\n",
       "      <td>0.258835</td>\n",
       "    </tr>\n",
       "    <tr>\n",
       "      <th>4</th>\n",
       "      <td>0.728873</td>\n",
       "      <td>0.547826</td>\n",
       "      <td>0.454545</td>\n",
       "      <td>0.555343</td>\n",
       "      <td>0.691589</td>\n",
       "      <td>0.772727</td>\n",
       "      <td>0.888624</td>\n",
       "    </tr>\n",
       "    <tr>\n",
       "      <th>...</th>\n",
       "      <td>...</td>\n",
       "      <td>...</td>\n",
       "      <td>...</td>\n",
       "      <td>...</td>\n",
       "      <td>...</td>\n",
       "      <td>...</td>\n",
       "      <td>...</td>\n",
       "    </tr>\n",
       "    <tr>\n",
       "      <th>8265</th>\n",
       "      <td>0.700704</td>\n",
       "      <td>0.139130</td>\n",
       "      <td>0.109091</td>\n",
       "      <td>0.689386</td>\n",
       "      <td>0.373832</td>\n",
       "      <td>0.500000</td>\n",
       "      <td>0.960515</td>\n",
       "    </tr>\n",
       "    <tr>\n",
       "      <th>8266</th>\n",
       "      <td>0.697183</td>\n",
       "      <td>0.130435</td>\n",
       "      <td>0.109091</td>\n",
       "      <td>0.708936</td>\n",
       "      <td>0.373832</td>\n",
       "      <td>0.488636</td>\n",
       "      <td>0.782810</td>\n",
       "    </tr>\n",
       "    <tr>\n",
       "      <th>8267</th>\n",
       "      <td>0.697183</td>\n",
       "      <td>0.130435</td>\n",
       "      <td>0.109091</td>\n",
       "      <td>0.723254</td>\n",
       "      <td>0.373832</td>\n",
       "      <td>0.488636</td>\n",
       "      <td>0.983101</td>\n",
       "    </tr>\n",
       "    <tr>\n",
       "      <th>8268</th>\n",
       "      <td>0.510563</td>\n",
       "      <td>0.130435</td>\n",
       "      <td>0.109091</td>\n",
       "      <td>0.690338</td>\n",
       "      <td>0.373832</td>\n",
       "      <td>0.488636</td>\n",
       "      <td>0.269127</td>\n",
       "    </tr>\n",
       "    <tr>\n",
       "      <th>8269</th>\n",
       "      <td>0.186620</td>\n",
       "      <td>0.165217</td>\n",
       "      <td>0.090909</td>\n",
       "      <td>0.702277</td>\n",
       "      <td>0.299065</td>\n",
       "      <td>0.477273</td>\n",
       "      <td>0.781145</td>\n",
       "    </tr>\n",
       "  </tbody>\n",
       "</table>\n",
       "<p>8270 rows × 7 columns</p>\n",
       "</div>"
      ],
      "text/plain": [
       "             0         1         2         3         4         5         6\n",
       "0     0.003521  0.678261  0.363636  0.604003  0.224299  0.477273  0.066179\n",
       "1     0.021127  0.713043  0.418182  0.618797  0.233645  0.636364  0.557475\n",
       "2     0.126761  0.730435  0.436364  0.509536  0.271028  0.715909  0.957646\n",
       "3     0.454225  0.686957  0.454545  0.597773  0.429907  0.750000  0.258835\n",
       "4     0.728873  0.547826  0.454545  0.555343  0.691589  0.772727  0.888624\n",
       "...        ...       ...       ...       ...       ...       ...       ...\n",
       "8265  0.700704  0.139130  0.109091  0.689386  0.373832  0.500000  0.960515\n",
       "8266  0.697183  0.130435  0.109091  0.708936  0.373832  0.488636  0.782810\n",
       "8267  0.697183  0.130435  0.109091  0.723254  0.373832  0.488636  0.983101\n",
       "8268  0.510563  0.130435  0.109091  0.690338  0.373832  0.488636  0.269127\n",
       "8269  0.186620  0.165217  0.090909  0.702277  0.299065  0.477273  0.781145\n",
       "\n",
       "[8270 rows x 7 columns]"
      ]
     },
     "execution_count": 3,
     "metadata": {},
     "output_type": "execute_result"
    }
   ],
   "source": [
    "dataset"
   ]
  },
  {
   "cell_type": "code",
   "execution_count": 10,
   "id": "cb0bbd77-53a4-4d4e-a302-700a984751cb",
   "metadata": {},
   "outputs": [
    {
     "name": "stdout",
     "output_type": "stream",
     "text": [
      "[0.62942835 0.22302746 0.07478738 0.05673041 0.01218521]\n",
      "5\n"
     ]
    }
   ],
   "source": [
    "# preprocessing before PCA (no feature scaling)\n",
    "x_mu = np.mean(x_train,axis=0)\n",
    "x_new = x_train - x_mu\n",
    "pca = PCA(n_components=0.99)\n",
    "pca.fit(x_new)\n",
    "print(pca.explained_variance_ratio_)\n",
    "# print(pca.explained_variance_)\n",
    "print(pca.n_components_)"
   ]
  },
  {
   "cell_type": "code",
   "execution_count": 11,
   "id": "7583de37-3404-4d6a-a743-9ddc0f5e4b91",
   "metadata": {},
   "outputs": [
    {
     "data": {
      "text/plain": [
       "(6616, 5)"
      ]
     },
     "execution_count": 11,
     "metadata": {},
     "output_type": "execute_result"
    }
   ],
   "source": [
    "z_train = pca.transform(x_new)\n",
    "z_train.shape"
   ]
  },
  {
   "cell_type": "code",
   "execution_count": 12,
   "id": "16cf6ca4-9ee0-46ed-a05a-ac7ebe434d9e",
   "metadata": {},
   "outputs": [
    {
     "data": {
      "text/plain": [
       "(1654, 5)"
      ]
     },
     "execution_count": 12,
     "metadata": {},
     "output_type": "execute_result"
    }
   ],
   "source": [
    "x_test_new = x_test - x_mu\n",
    "z_test = pca.transform(x_test_new)\n",
    "z_test.shape"
   ]
  },
  {
   "cell_type": "code",
   "execution_count": 13,
   "id": "d4930dc8-6958-4131-a7af-5c8888a17d2c",
   "metadata": {},
   "outputs": [
    {
     "name": "stdout",
     "output_type": "stream",
     "text": [
      "MSE 0.000978907832810048\n",
      "MAE 0.019968727119613127\n",
      "R2 score 0.8746541671338458\n"
     ]
    }
   ],
   "source": [
    "rfr = RandomForestRegressor(random_state=0)\n",
    "rfr.fit(z_train,y_train)\n",
    "y_pred = rfr.predict(z_test)\n",
    "print('MSE',MSE(y_test,y_pred))\n",
    "print('MAE',MAE(y_test,y_pred))\n",
    "print('R2 score',R2(y_test,y_pred))"
   ]
  }
 ],
 "metadata": {
  "kernelspec": {
   "display_name": "Python 3",
   "language": "python",
   "name": "python3"
  },
  "language_info": {
   "codemirror_mode": {
    "name": "ipython",
    "version": 3
   },
   "file_extension": ".py",
   "mimetype": "text/x-python",
   "name": "python",
   "nbconvert_exporter": "python",
   "pygments_lexer": "ipython3",
   "version": "3.8.8"
  }
 },
 "nbformat": 4,
 "nbformat_minor": 5
}
